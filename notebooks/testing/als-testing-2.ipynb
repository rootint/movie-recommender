{
 "cells": [
  {
   "cell_type": "code",
   "execution_count": 5,
   "metadata": {},
   "outputs": [],
   "source": [
    "from pyspark.sql import SparkSession\n",
    "from pyspark.ml.recommendation import ALS\n",
    "from pyspark.ml.evaluation import RegressionEvaluator\n",
    "\n",
    "# Initialize Spark Session\n",
    "spark = SparkSession.builder.appName(\"MovieLensALS\").getOrCreate()\n",
    "\n",
    "# ALS Model Configuration\n",
    "als = ALS(rank=57, regParam=0.1, userCol=\"userId\", itemCol=\"movieId\", ratingCol=\"rating\", coldStartStrategy=\"drop\", nonnegative=True)\n",
    "\n",
    "# Evaluator Configuration\n",
    "evaluator = RegressionEvaluator(metricName=\"rmse\", labelCol=\"rating\", predictionCol=\"prediction\")\n",
    "\n",
    "# Path to the MovieLens 100k dataset\n",
    "data_path = \"../../data/raw/ml-100k/\"  # Replace with your path to the ml-100k folder\n"
   ]
  },
  {
   "cell_type": "code",
   "execution_count": 6,
   "metadata": {},
   "outputs": [
    {
     "name": "stderr",
     "output_type": "stream",
     "text": [
      "23/12/02 16:59:21 WARN InstanceBuilder: Failed to load implementation from:dev.ludovic.netlib.blas.JNIBLAS\n",
      "23/12/02 16:59:21 WARN InstanceBuilder: Failed to load implementation from:dev.ludovic.netlib.blas.VectorBLAS\n"
     ]
    },
    {
     "name": "stdout",
     "output_type": "stream",
     "text": [
      "Fold 1, RMSE: 0.9275722381661471\n",
      "Fold 2, RMSE: 0.9179055593880304\n",
      "Fold 3, RMSE: 0.913817514369452\n",
      "Fold 4, RMSE: 0.9172329510479836\n",
      "Fold 5, RMSE: 0.917554774118897\n"
     ]
    }
   ],
   "source": [
    "# Iterate through each of the five folds\n",
    "for i in range(1, 6):\n",
    "    # Load training and test data for the current fold\n",
    "    training = spark.read.csv(f\"{data_path}u{i}.base\", sep='\\t', inferSchema=True).toDF(\"userId\", \"movieId\", \"rating\", \"timestamp\")\n",
    "    test = spark.read.csv(f\"{data_path}u{i}.test\", sep='\\t', inferSchema=True).toDF(\"userId\", \"movieId\", \"rating\", \"timestamp\")\n",
    "\n",
    "    # Fit the model\n",
    "    model = als.fit(training)\n",
    "\n",
    "    # Evaluate the model\n",
    "    predictions = model.transform(test)\n",
    "    rmse = evaluator.evaluate(predictions)\n",
    "    print(f\"Fold {i}, RMSE: {rmse}\")"
   ]
  },
  {
   "cell_type": "code",
   "execution_count": null,
   "metadata": {},
   "outputs": [],
   "source": [
    "# Stop the Spark session\n",
    "spark.stop()"
   ]
  }
 ],
 "metadata": {
  "kernelspec": {
   "display_name": "pmldl2",
   "language": "python",
   "name": "python3"
  },
  "language_info": {
   "codemirror_mode": {
    "name": "ipython",
    "version": 3
   },
   "file_extension": ".py",
   "mimetype": "text/x-python",
   "name": "python",
   "nbconvert_exporter": "python",
   "pygments_lexer": "ipython3",
   "version": "3.9.18"
  }
 },
 "nbformat": 4,
 "nbformat_minor": 2
}
